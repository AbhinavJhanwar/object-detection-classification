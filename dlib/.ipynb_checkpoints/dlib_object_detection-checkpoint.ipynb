{
 "cells": [
  {
   "cell_type": "code",
   "execution_count": 2,
   "metadata": {},
   "outputs": [],
   "source": [
    "import cv2\n",
    "import dlib\n",
    "import os\n",
    "import glob\n",
    "import time\n",
    "import pickle"
   ]
  },
  {
   "cell_type": "markdown",
   "metadata": {},
   "source": [
    "# training dlib for object/face detection\n",
    "## References-\n",
    "1. http://dlib.net/train_object_detector.py.html<br>\n",
    "2. https://imglab.in/#"
   ]
  },
  {
   "cell_type": "code",
   "execution_count": 4,
   "metadata": {},
   "outputs": [],
   "source": [
    "images_folder = \"object/\"\n",
    "objects = ['object']\n",
    "\n",
    "options = dlib.simple_object_detector_training_options()\n",
    "options.add_left_right_image_flips = False\n",
    "options.C = 3 # Specify penalty parameter, too large - overfit, too small - underfit\n",
    "options.num_threads = 2\n",
    "options.be_verbose = True\n",
    "\n",
    "for i in objects:\n",
    "    print(\"Training model for {0}...\".format(i))\n",
    "    training_xml_path = os.path.join(images_folder, \"object.xml\")\n",
    "    #testing_xml_path = os.path.join(images_folder, \"testing.xml\")\n",
    "    output_path = \"{0}.svm\".format(i)\n",
    "    dlib.train_simple_object_detector(training_xml_path, output_path, options)\n",
    "    \n",
    "    print(\"Training accuracy: {}\".format(\n",
    "        dlib.test_simple_object_detector(training_xml_path, output_path)))\n",
    "    print(\"\")  # Print blank line to create gap from previous output\n",
    "    #print(\"Testing accuracy: {}\".format(\n",
    "        #dlib.test_simple_object_detector(testing_xml_path, output_path)))\n",
    "    \n"
   ]
  },
  {
   "cell_type": "markdown",
   "metadata": {},
   "source": [
    "# object detection from images"
   ]
  },
  {
   "cell_type": "code",
   "execution_count": null,
   "metadata": {},
   "outputs": [],
   "source": [
    "images_folder = \"test/\"\n",
    "objects = ['object']\n",
    "print(\"Showing detections on the images in the objects folder...\")\n",
    "for i in objects:\n",
    "    detector = dlib.simple_object_detector(\"{0}.svm\".format(i))\n",
    "    #detector = dlib.fhog_object_detector(\"{0}.svm\".format(i))\n",
    "    win = dlib.image_window()\n",
    "    for f in glob.glob(os.path.join(images_folder, \"*.jpg\".format(i))):\n",
    "        print(\"Processing file: {}\".format(f))\n",
    "        img = dlib.load_rgb_image(f)\n",
    "        #dets = dlib.fhog_object_detector.run(detector, img)[0]\n",
    "        dets = detector(img)\n",
    "        print(\"Number of objects detected: {}\".format(len(dets)))\n",
    "        for k, d in enumerate(dets):\n",
    "            print(\"Detection {}: Left: {} Top: {} Right: {} Bottom: {}\".format(\n",
    "                k, d.left(), d.top(), d.right(), d.bottom()))\n",
    "    \n",
    "        win.clear_overlay()\n",
    "        win.set_image(img)\n",
    "        win.add_overlay(dets)\n",
    "        time.sleep(1)\n",
    "        "
   ]
  }
 ],
 "metadata": {
  "kernelspec": {
   "display_name": "Python 3",
   "language": "python",
   "name": "python3"
  },
  "language_info": {
   "codemirror_mode": {
    "name": "ipython",
    "version": 3
   },
   "file_extension": ".py",
   "mimetype": "text/x-python",
   "name": "python",
   "nbconvert_exporter": "python",
   "pygments_lexer": "ipython3",
   "version": "3.6.10"
  }
 },
 "nbformat": 4,
 "nbformat_minor": 4
}
