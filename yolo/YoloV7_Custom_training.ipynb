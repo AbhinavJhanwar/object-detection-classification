{
  "cells": [
    {
      "attachments": {},
      "cell_type": "markdown",
      "metadata": {
        "id": "GD9gUQpaBxNa"
      },
      "source": [
        "### **Steps Covered**\n",
        "\n",
        "To train our detector we take the following steps:\n",
        "\n",
        "* Install YOLOv7 dependencies\n",
        "* Load custom dataset from Roboflow in YOLOv7 format\n",
        "* Run YOLOv7 training\n",
        "* Evaluate YOLOv7 performance\n",
        "* Run YOLOv7 inference on test images"
      ]
    },
    {
      "cell_type": "code",
      "execution_count": null,
      "metadata": {
        "colab": {
          "base_uri": "https://localhost:8080/"
        },
        "id": "nD-uPyQ_2jiN",
        "outputId": "449f177b-64c4-4a25-8a26-cb9912e17959"
      },
      "outputs": [],
      "source": [
        "# Download YOLOv7 repository and install requirements\n",
        "!git clone https://github.com/WongKinYiu/yolov7\n",
        "!pip install -r requirements.txt\n",
        "!pip install gdownt\n",
        "!sudo apt-get install unzip"
      ]
    },
    {
      "cell_type": "code",
      "execution_count": null,
      "metadata": {},
      "outputs": [],
      "source": [
        "%cd yolov7\n",
        "!gdown https://drive.google.com/u/1/uc?id=1pmlMhaOw9oUqIH7OZP8d0dBKVOLqAYcy&export=download\n",
        "!unzip yolov7/data.zip -d dataset"
      ]
    },
    {
      "attachments": {},
      "cell_type": "markdown",
      "metadata": {},
      "source": [
        "Final dataset folder looks like below before get into YOLOv7 training,\n",
        "```\n",
        "├── yolov7\n",
        "## └── train\n",
        "####└── images (folder including all training images)\n",
        "####└── labels (folder including all training labels)\n",
        "## └── test\n",
        "####└── images (folder including all testing images)\n",
        "####└── labels (folder including all testing labels)\n",
        "## └── valid\n",
        "####└── images (folder including all valid images)\n",
        "####└── labels (folder including all valid labels)\n",
        "```\n",
        "\n",
        "Create Custom Config File for Training\n",
        "We must now develop a customized configuration file. (Be sure to specify the proper directory), as the training process will be entirely dependent on that file.\n",
        "Create a file with the name “custom.yaml” in the (yolov7/data) folder. In that file, paste the code below. Set the correct path to the dataset folder, alter the number of classes and their names, and then save it.\n",
        "\n",
        "Make a file that specifies the training configuration. In custom.yaml file, write the following:\n",
        "\n",
        "```\n",
        "Image_path\n",
        "Number_of_classes\n",
        "Classes_names_array\n",
        "train: (Complete path to dataset train folder)\n",
        "test: (Complete path to dataset test folder)\n",
        "valid: (Complete path to dataset valid folder)\n",
        "#Classes\n",
        "nc: 1 # replace classes count \n",
        "#classes names\n",
        "#replace all class names list with your custom classes\n",
        "namesnames: ['person', 'bicycle', 'car', 'motorcycle', 'airplane', 'bus', 'train', 'truck', 'boat', 'traffic light',\n",
        "        'fire hydrant', 'stop sign', 'parking meter', 'bench', 'bird', 'cat', 'dog', 'horse', 'sheep', 'cow',\n",
        "        'elephant', 'bear', 'zebra', 'giraffe', 'backpack', 'umbrella', 'handbag', 'tie', 'suitcase', 'frisbee',\n",
        "        'skis', 'snowboard', 'sports ball', 'kite', 'baseball bat', 'baseball glove', 'skateboard', 'surfboard',\n",
        "        'tennis racket', 'bottle', 'wine glass', 'cup', 'fork', 'knife', 'spoon', 'bowl', 'banana', 'apple',\n",
        "        'sandwich', 'orange', 'broccoli', 'carrot', 'hot dog', 'pizza', 'donut', 'cake', 'chair', 'couch',\n",
        "        'potted plant', 'bed', 'dining table', 'toilet', 'tv', 'laptop', 'mouse', 'remote', 'keyboard', 'cell phone',\n",
        "        'microwave', 'oven', 'toaster', 'sink', 'refrigerator', 'book', 'clock', 'vase', 'scissors', 'teddy bear']\n",
        "```"
      ]
    },
    {
      "cell_type": "code",
      "execution_count": null,
      "metadata": {
        "colab": {
          "base_uri": "https://localhost:8080/"
        },
        "id": "bUbmy674bhpD",
        "outputId": "781f786c-fcb0-4a7c-9918-9256b4786e61"
      },
      "outputs": [],
      "source": [
        "# download COCO starting checkpoint\n",
        "%cd yolov7\n",
        "!wget \"https://github.com/WongKinYiu/yolov7/releases/download/v0.1/yolov7.pt\""
      ]
    },
    {
      "cell_type": "code",
      "execution_count": null,
      "metadata": {
        "colab": {
          "base_uri": "https://localhost:8080/"
        },
        "id": "1iqOPKjr22mL",
        "outputId": "93875c6e-fe89-4f01-dbe6-68f9b197d696"
      },
      "outputs": [],
      "source": [
        "# run this cell to begin training\n",
        "%cd yolov7\n",
        "!python train.py --batch 16 --cfg cfg/training/yolov7.yaml --epochs 55 --data ../dataset/data/data.yaml --weights 'yolov7.pt' --device 0 "
      ]
    },
    {
      "cell_type": "markdown",
      "metadata": {
        "id": "0W0MpUaTCJro"
      },
      "source": [
        "# Evaluation\n",
        "\n",
        "We can evaluate the performance of our custom training using the provided evalution script.\n",
        "\n",
        "Note we can adjust the below custom arguments. For details, see [the arguments accepted by detect.py](https://github.com/WongKinYiu/yolov7/blob/main/detect.py#L154)."
      ]
    },
    {
      "cell_type": "code",
      "execution_count": null,
      "metadata": {
        "colab": {
          "base_uri": "https://localhost:8080/"
        },
        "id": "N4cfnLtTCIce",
        "outputId": "c64c7311-6acc-4932-c04a-6a9d3f183867"
      },
      "outputs": [],
      "source": [
        "# Run evaluation\n",
        "!python detect.py --weights runs/train/exp2/weights/best.pt --conf 0.5 --source /home/abhinav_jhanwar_valuelabs_com/object-detection-classification/yolo/dataset/data/test/images --device 0"
      ]
    },
    {
      "cell_type": "code",
      "execution_count": null,
      "metadata": {},
      "outputs": [],
      "source": [
        "# Run evaluation\n",
        "!python detect.py --weights runs/train/exp2/weights/best.pt --conf 0.5 --source 0 --device 0"
      ]
    },
    {
      "cell_type": "code",
      "execution_count": null,
      "metadata": {
        "colab": {
          "base_uri": "https://localhost:8080/",
          "height": 1000
        },
        "id": "6AGhNOSSHY4_",
        "outputId": "05900b73-11e7-4b0d-890b-579c957cfa5b"
      },
      "outputs": [],
      "source": [
        "#display inference on ALL test images\n",
        "\n",
        "import glob\n",
        "from IPython.display import Image, display\n",
        "\n",
        "i = 0\n",
        "limit = 10000 # max images to print\n",
        "for imageName in glob.glob('runs/detect/exp3/*.jpg'): #assuming JPG\n",
        "    if i < limit:\n",
        "      display(Image(filename=imageName))\n",
        "      print(\"\\n\")\n",
        "    i = i + 1\n",
        "    "
      ]
    }
  ],
  "metadata": {
    "accelerator": "GPU",
    "colab": {
      "collapsed_sections": [],
      "name": "YoloV7_Custom_training",
      "provenance": []
    },
    "kernelspec": {
      "display_name": "object_detection",
      "language": "python",
      "name": "python3"
    },
    "language_info": {
      "codemirror_mode": {
        "name": "ipython",
        "version": 3
      },
      "file_extension": ".py",
      "mimetype": "text/x-python",
      "name": "python",
      "nbconvert_exporter": "python",
      "pygments_lexer": "ipython3",
      "version": "3.7.13 (default, Oct 18 2022, 18:57:03) \n[GCC 11.2.0]"
    },
    "vscode": {
      "interpreter": {
        "hash": "523c085937921c9bf1754be3fc06c3736dd9e909273ccc15755aad185ca77468"
      }
    }
  },
  "nbformat": 4,
  "nbformat_minor": 0
}
