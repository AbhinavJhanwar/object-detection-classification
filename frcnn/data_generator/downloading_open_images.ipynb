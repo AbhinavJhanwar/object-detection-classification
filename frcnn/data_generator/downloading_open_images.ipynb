{
 "cells": [
  {
   "cell_type": "code",
   "execution_count": null,
   "metadata": {},
   "outputs": [],
   "source": [
    "# download the python file to download open images data\n",
    "!wget https://raw.githubusercontent.com/openimages/dataset/master/downloader.py"
   ]
  },
  {
   "cell_type": "code",
   "execution_count": 1,
   "metadata": {},
   "outputs": [],
   "source": [
    "import pandas as pd\n",
    "import sys\n",
    "import os\n",
    "import cv2\n",
    "input_txt = 'data_download.txt'\n",
    "\n",
    "# set limit for train, test and validation set for images to be downloaded\n",
    "train_limit = 200000\n",
    "test_limit = 50000\n",
    "val_limit = 50000"
   ]
  },
  {
   "cell_type": "code",
   "execution_count": 2,
   "metadata": {},
   "outputs": [],
   "source": [
    "train_df = pd.read_csv('../data/open_images_v4/train-annotations-bbox.csv')\n",
    "train_df_filtered = train_df.drop_duplicates('ImageID').reset_index(drop=True)\n",
    "val_df = pd.read_csv('../data/open_images_v4/validation-annotations-bbox.csv')\n",
    "val_df_filtered = val_df.drop_duplicates('ImageID').reset_index(drop=True)\n",
    "test_df = pd.read_csv('../data/open_images_v4/test-annotations-bbox.csv')\n",
    "test_df_filtered = test_df.drop_duplicates('ImageID').reset_index(drop=True)\n",
    "\n",
    "# get class mapping \n",
    "class_df = pd.read_csv('../data/open_images_v4/class-descriptions-boxable.csv', header=None)\n",
    "class_df.index = class_df[0]\n",
    "class_df = class_df.drop(columns=[0])\n",
    "class_map = class_df.to_dict()[1]"
   ]
  },
  {
   "cell_type": "code",
   "execution_count": 3,
   "metadata": {},
   "outputs": [],
   "source": [
    "# update LabelName with class\n",
    "test_df['LabelName'] = test_df['LabelName'].map(class_map)\n",
    "val_df['LabelName'] = val_df['LabelName'].map(class_map)\n",
    "train_df['LabelName'] = train_df['LabelName'].map(class_map)"
   ]
  },
  {
   "cell_type": "code",
   "execution_count": null,
   "metadata": {},
   "outputs": [],
   "source": [
    "# create list of images to be downloaded\n",
    "with open(f\"../data/open_images_v4/{input_txt}\", \"w+\") as f:\n",
    "  for idx, row in train_df_filtered.iterrows():\n",
    "      sys.stdout.write(str(idx) + '\\r')\n",
    "      sys.stdout.flush()\n",
    "      f.write(\"train/\"+row['ImageID']+\"\\r\")\n",
    "      if idx>train_limit:\n",
    "        break\n",
    "  for idx, row in val_df_filtered.iterrows():\n",
    "      sys.stdout.write(str(idx) + '\\r')\n",
    "      sys.stdout.flush()\n",
    "      f.write(\"validation/\"+row['ImageID']+\"\\r\")\n",
    "      if idx>val_limit:\n",
    "        break\n",
    "  for idx, row in test_df_filtered.iterrows():\n",
    "      sys.stdout.write(str(idx) + '\\r')\n",
    "      sys.stdout.flush()\n",
    "      f.write(\"test/\"+row['ImageID']+\"\\r\")\n",
    "      if idx>test_limit:\n",
    "        break"
   ]
  },
  {
   "cell_type": "code",
   "execution_count": null,
   "metadata": {},
   "outputs": [],
   "source": [
    "# TO DO:\n",
    "# update file name of .txt here\n",
    "\n",
    "# download images\n",
    "!python downloader.py $\"../data/open_images_v4/data_download.txt\" --download_folder=$\"../data/open_images_v4/images\" --num_processes=5"
   ]
  },
  {
   "cell_type": "code",
   "execution_count": 4,
   "metadata": {},
   "outputs": [],
   "source": [
    "# get train, test, val subset ImageIDs for which images are downloaded\n",
    "train_images = []\n",
    "test_images = []\n",
    "val_images = []\n",
    "with open(f'../data/open_images_v4/{input_txt}','r') as f1:\n",
    "    for line in f1:\n",
    "        line_split = line.strip().split('/')\n",
    "        (dataset, ImageID) = line_split\n",
    "        if dataset=='train':\n",
    "            train_images.append(ImageID)\n",
    "        elif dataset=='test':\n",
    "            test_images.append(ImageID)\n",
    "        else:\n",
    "            val_images.append(ImageID)"
   ]
  },
  {
   "cell_type": "code",
   "execution_count": 6,
   "metadata": {},
   "outputs": [],
   "source": [
    "# for training generate annotation file\n",
    "\n",
    "# filter train_df for the images downloaded\n",
    "train_df = train_df[train_df.ImageID.isin(train_images)]\n",
    "\n",
    "print(train_df.shape)\n",
    "\n",
    "with open(\"../data/open_images_v4/train_annotation.txt\", \"w+\") as f:\n",
    "  for idx, row in train_df.iterrows():\n",
    "      sys.stdout.write(str(idx) + '\\r')\n",
    "      sys.stdout.flush()\n",
    "      if row['ImageID'] in train_images:\n",
    "        img = cv2.imread('../data/open_images_v4/images/' + row['ImageID']+\".jpg\")\n",
    "        height, width = img.shape[:2]\n",
    "        x1 = int(row['XMin'] * width)\n",
    "        x2 = int(row['XMax'] * width)\n",
    "        y1 = int(row['YMin'] * height)\n",
    "        y2 = int(row['YMax'] * height)\n",
    "        \n",
    "        fileName = os.path.join(\"data/open_images_v4/images\", row['ImageID']+\".jpg\")\n",
    "        className = row['LabelName']\n",
    "        f.write(fileName + ',' + str(x1) + ',' + str(y1) + ',' + str(x2) + ',' + str(y2) + ',' + className + ',' + str(height) + ',' + str(width) + '\\n')"
   ]
  },
  {
   "cell_type": "code",
   "execution_count": 5,
   "metadata": {},
   "outputs": [
    {
     "name": "stdout",
     "output_type": "stream",
     "text": [
      "(294033, 13)\n",
      "294032\r"
     ]
    }
   ],
   "source": [
    "# for test\n",
    "\n",
    "# filter test_df for the images downloaded\n",
    "test_df = test_df[test_df.ImageID.isin(test_images)]\n",
    "\n",
    "print(test_df.shape)\n",
    "\n",
    "with open(\"../data/open_images_v4/test_annotation.txt\", \"w+\") as f:\n",
    "  for idx, row in test_df.iterrows():\n",
    "      sys.stdout.write(str(idx) + '\\r')\n",
    "      sys.stdout.flush()\n",
    "      if row['ImageID'] in test_images:\n",
    "        img = cv2.imread('../data/open_images_v4/images/' + row['ImageID']+\".jpg\")\n",
    "        height, width = img.shape[:2]\n",
    "        x1 = int(row['XMin'] * width)\n",
    "        x2 = int(row['XMax'] * width)\n",
    "        y1 = int(row['YMin'] * height)\n",
    "        y2 = int(row['YMax'] * height)\n",
    "        \n",
    "        fileName = os.path.join(\"data/open_images_v4/images\", row['ImageID']+\".jpg\")\n",
    "        className = row['LabelName']\n",
    "        f.write(fileName + ',' + str(x1) + ',' + str(y1) + ',' + str(x2) + ',' + str(y2) + ',' + className + ',' + str(height) + ',' + str(width) + '\\n')\n",
    "        "
   ]
  },
  {
   "cell_type": "code",
   "execution_count": 6,
   "metadata": {},
   "outputs": [
    {
     "name": "stdout",
     "output_type": "stream",
     "text": [
      "(204621, 13)\n",
      "204620\r"
     ]
    }
   ],
   "source": [
    "# for validation\n",
    "\n",
    "# filter train_df for the images downloaded\n",
    "val_df = val_df[val_df.ImageID.isin(val_images)]\n",
    "\n",
    "print(val_df.shape)\n",
    "\n",
    "with open(\"../data/open_images_v4/val_annotation.txt\", \"w+\") as f:\n",
    "  for idx, row in val_df.iterrows():\n",
    "      sys.stdout.write(str(idx) + '\\r')\n",
    "      sys.stdout.flush()\n",
    "      if row['ImageID'] in val_images:\n",
    "        img = cv2.imread('../data/open_images_v4/images/' + row['ImageID']+\".jpg\")\n",
    "        height, width = img.shape[:2]\n",
    "        x1 = int(row['XMin'] * width)\n",
    "        x2 = int(row['XMax'] * width)\n",
    "        y1 = int(row['YMin'] * height)\n",
    "        y2 = int(row['YMax'] * height)\n",
    "        \n",
    "        fileName = os.path.join(\"data/open_images_v4/images\", row['ImageID']+\".jpg\")\n",
    "        className = row['LabelName']\n",
    "        f.write(fileName + ',' + str(x1) + ',' + str(y1) + ',' + str(x2) + ',' + str(y2) + ',' + className + ',' + str(height) + ',' + str(width) + '\\n')"
   ]
  },
  {
   "cell_type": "code",
   "execution_count": null,
   "metadata": {},
   "outputs": [],
   "source": [
    "from skimage import io\n",
    "import matplotlib.pyplot as plt\n",
    "\n",
    "# sample plots\n",
    "def plot_bbox(img_id):\n",
    "  bboxs = []\n",
    "  img_url = f'../data/open_images_v4/images/{img_id}.jpg'\n",
    "  img = io.imread(img_url)\n",
    "  height, width, channel = img.shape\n",
    "  bboxs = test_df[test_df['ImageID']==img_id]\n",
    "  #print(bboxs)\n",
    "  for index, row in bboxs.iterrows():\n",
    "      xmin = row['XMin']\n",
    "      xmax = row['XMax']\n",
    "      ymin = row['YMin']\n",
    "      ymax = row['YMax']\n",
    "      xmin = int(xmin*width)\n",
    "      xmax = int(xmax*width)\n",
    "      ymin = int(ymin*height)\n",
    "      ymax = int(ymax*height)\n",
    "      label_name = row['LabelName']\n",
    "      print(f\"Coordinates: {xmin,ymin}, {xmax,ymax}\", label_name)\n",
    "      cv2.rectangle(img, (xmin,ymin), (xmax,ymax), (255,0,0), 3)\n",
    "      font = cv2.FONT_HERSHEY_SIMPLEX\n",
    "      cv2.putText(img, label_name, (xmin,ymin-10), font, 1, (0,0,255), 3)\n",
    "  plt.figure(figsize=(10,10))\n",
    "  plt.title('Image with Bounding Box')\n",
    "  plt.imshow(img)\n",
    "  plt.axis(\"off\")\n",
    "  plt.show()"
   ]
  },
  {
   "cell_type": "code",
   "execution_count": null,
   "metadata": {},
   "outputs": [],
   "source": [
    "plot_bbox('000026e7ee790996')"
   ]
  },
  {
   "cell_type": "code",
   "execution_count": null,
   "metadata": {},
   "outputs": [],
   "source": [
    "plot_bbox('000aa0b1c8fd5ddf')"
   ]
  },
  {
   "cell_type": "code",
   "execution_count": null,
   "metadata": {},
   "outputs": [],
   "source": [
    "plot_bbox('0003d84e0165d630')"
   ]
  }
 ],
 "metadata": {
  "kernelspec": {
   "display_name": "Python 3.7.13 ('object_detection')",
   "language": "python",
   "name": "python3"
  },
  "language_info": {
   "codemirror_mode": {
    "name": "ipython",
    "version": 3
   },
   "file_extension": ".py",
   "mimetype": "text/x-python",
   "name": "python",
   "nbconvert_exporter": "python",
   "pygments_lexer": "ipython3",
   "version": "3.7.13"
  },
  "orig_nbformat": 4,
  "vscode": {
   "interpreter": {
    "hash": "523c085937921c9bf1754be3fc06c3736dd9e909273ccc15755aad185ca77468"
   }
  }
 },
 "nbformat": 4,
 "nbformat_minor": 2
}
